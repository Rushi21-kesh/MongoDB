{
 "cells": [
  {
   "cell_type": "markdown",
   "id": "43741d24",
   "metadata": {},
   "source": [
    "<h1 align='center' style='color:#33DDAA'>Beginners Guide : MongoDB Basics"
   ]
  },
  {
   "cell_type": "markdown",
   "id": "a1291ac6",
   "metadata": {},
   "source": [
    "- <h3 style='color:#33DD33'> About MangoDB :</h3>\n",
    "\n",
    "\n",
    "    - Mongodb is a NoSQL database, NoSQL is stand for Not Only Structured Query Language\n",
    "    - NoSQL databases like Mangodb is put data in JSON format and SQL databases are stored data in tabular format.\n",
    "    - Data is in JSON format it means it is key values pair because of this data retrival in NOSQL is very very faster as     compair to SQL\n",
    "    - Table in Mangodb called as Collection and record is called as document\n",
    "    - The primary key is automatically set to the '_id' field\n",
    "    - It support geospatial query it means it return longitude and latitude \n",
    "    - It is eaily integrated with Big Data Hadoop\n",
    "    - It is easy to install, scalable ,high performance\n",
    "    - For High transection data Mangobd not good "
   ]
  },
  {
   "cell_type": "markdown",
   "id": "b4e04c60",
   "metadata": {},
   "source": [
    "- <h3 style='color:#33DD33'> Connecting Python and Mongo"
   ]
  },
  {
   "cell_type": "code",
   "execution_count": 11,
   "id": "c5313461",
   "metadata": {},
   "outputs": [
    {
     "data": {
      "text/plain": [
       "MongoClient(host=['127.0.0.1:27017'], document_class=dict, tz_aware=False, connect=True)"
      ]
     },
     "execution_count": 11,
     "metadata": {},
     "output_type": "execute_result"
    }
   ],
   "source": [
    "# import driver \n",
    "import pymongo\n",
    "\n",
    "#connect with client\n",
    "client = pymongo.MongoClient('mongodb://127.0.0.1:27017')\n",
    "\n",
    "#return client details\n",
    "client"
   ]
  },
  {
   "cell_type": "markdown",
   "id": "e050fa83",
   "metadata": {},
   "source": [
    "- <h3 style='color:#33DD33'> Create Database"
   ]
  },
  {
   "cell_type": "code",
   "execution_count": 16,
   "id": "578bcc7d",
   "metadata": {},
   "outputs": [],
   "source": [
    "db = client['Record']"
   ]
  },
  {
   "cell_type": "markdown",
   "id": "3d466ce4",
   "metadata": {},
   "source": [
    "- our database is created but it will not present in Mongo\n",
    "- After creating collection and adding document then our database is visiable"
   ]
  },
  {
   "cell_type": "code",
   "execution_count": 17,
   "id": "b2a503b0",
   "metadata": {},
   "outputs": [
    {
     "data": {
      "text/plain": [
       "['admin', 'config', 'demo', 'local', 'rus_first_mongo']"
      ]
     },
     "execution_count": 17,
     "metadata": {},
     "output_type": "execute_result"
    }
   ],
   "source": [
    "client.list_database_names()"
   ]
  },
  {
   "cell_type": "markdown",
   "id": "01edb82c",
   "metadata": {},
   "source": [
    "- <h3 style='color:#33DD33'> Create Collection"
   ]
  },
  {
   "cell_type": "code",
   "execution_count": 101,
   "id": "409772d0",
   "metadata": {},
   "outputs": [
    {
     "data": {
      "text/plain": [
       "Collection(Database(MongoClient(host=['127.0.0.1:27017'], document_class=dict, tz_aware=False, connect=True), 'Record'), 'Student')"
      ]
     },
     "execution_count": 101,
     "metadata": {},
     "output_type": "execute_result"
    }
   ],
   "source": [
    "collection = db['Student']\n",
    "collection"
   ]
  },
  {
   "cell_type": "markdown",
   "id": "e3aeeb71",
   "metadata": {},
   "source": [
    "- Now we create a collection lets check our database is visiable or not"
   ]
  },
  {
   "cell_type": "code",
   "execution_count": 102,
   "id": "2fde40a0",
   "metadata": {},
   "outputs": [
    {
     "data": {
      "text/plain": [
       "['admin', 'config', 'demo', 'local', 'rus_first_mongo']"
      ]
     },
     "execution_count": 102,
     "metadata": {},
     "output_type": "execute_result"
    }
   ],
   "source": [
    "client.list_database_names()"
   ]
  },
  {
   "cell_type": "markdown",
   "id": "80da7dec",
   "metadata": {},
   "source": [
    "- Here we see that still our database and collection is not visiable"
   ]
  },
  {
   "cell_type": "markdown",
   "id": "1191cf00",
   "metadata": {},
   "source": [
    "- <h3 style='color:#33DD33'> Insert Single Record"
   ]
  },
  {
   "cell_type": "code",
   "execution_count": 103,
   "id": "1e845b6b",
   "metadata": {},
   "outputs": [
    {
     "data": {
      "text/plain": [
       "<pymongo.results.InsertOneResult at 0x1990b733b40>"
      ]
     },
     "execution_count": 103,
     "metadata": {},
     "output_type": "execute_result"
    }
   ],
   "source": [
    "# create a single record\n",
    "record = {\n",
    "    'Name':'Rushikesh',\n",
    "    'Education':'BE',\n",
    "    'Branch':'CSE',\n",
    "    'Phone No':9090909090,\n",
    "}\n",
    "\n",
    "# insert it into collection name as 'Student'\n",
    "collection.insert_one(record)"
   ]
  },
  {
   "cell_type": "markdown",
   "id": "1f44e265",
   "metadata": {},
   "source": [
    "- Now, we inserted a single record in 'Student' collection \n",
    "- Let's check our database is created or not"
   ]
  },
  {
   "cell_type": "markdown",
   "id": "63d3ce90",
   "metadata": {},
   "source": [
    "- <h3 style='color:#33DD33'> Check Database and Collection"
   ]
  },
  {
   "cell_type": "markdown",
   "id": "bc8867ca",
   "metadata": {},
   "source": [
    "- Check all databases"
   ]
  },
  {
   "cell_type": "code",
   "execution_count": 104,
   "id": "63044792",
   "metadata": {},
   "outputs": [
    {
     "data": {
      "text/plain": [
       "['Record', 'admin', 'config', 'demo', 'local', 'rus_first_mongo']"
      ]
     },
     "execution_count": 104,
     "metadata": {},
     "output_type": "execute_result"
    }
   ],
   "source": [
    "client.list_database_names()"
   ]
  },
  {
   "cell_type": "markdown",
   "id": "a63e3b61",
   "metadata": {},
   "source": [
    "- Here our database is created now\n",
    "- Find list of Collection in  'Record' Database"
   ]
  },
  {
   "cell_type": "code",
   "execution_count": 105,
   "id": "077dad06",
   "metadata": {},
   "outputs": [
    {
     "data": {
      "text/plain": [
       "['Student']"
      ]
     },
     "execution_count": 105,
     "metadata": {},
     "output_type": "execute_result"
    }
   ],
   "source": [
    "db.list_collection_names()"
   ]
  },
  {
   "cell_type": "markdown",
   "id": "c2bfecf2",
   "metadata": {},
   "source": [
    "- <h3 style='color:#33DD33'> Insert Multiple Record"
   ]
  },
  {
   "cell_type": "code",
   "execution_count": 106,
   "id": "c2400a83",
   "metadata": {},
   "outputs": [],
   "source": [
    "# create a list of dictonary with multiple records\n",
    "list_records = [\n",
    "    {\n",
    "        'Name':'Robert',\n",
    "        'Education':['Bsc','Msc','PhD'],\n",
    "        'College':'Howard University',\n",
    "        'Age':28,\n",
    "        'Email' : 'robert@haward.com'\n",
    "    },\n",
    "    {\n",
    "        'Name':'Subadh',\n",
    "        'Education':('BE','M.Tech'),\n",
    "        'City':['Mumbai','Dadar'],\n",
    "        'Age':31,\n",
    "        'Email':'subadhab@bhai.jao',\n",
    "        'Hobby': 'cricket'\n",
    "    },\n",
    "    {\n",
    "        'Name':'Rushikesh',\n",
    "        'Education':{'College':'PRMCEAM','Branch':'CSE'},\n",
    "        'City':'Amravati',\n",
    "        'Age':22\n",
    "    },\n",
    "    {\n",
    "        'Name':'Prajwal',\n",
    "        'Education':{'College':'GCOEA','Branch':'CS'},\n",
    "        'City':'Pune',\n",
    "        'Age':21\n",
    "    },\n",
    "    {\n",
    "        'Name':'Tushar',\n",
    "        'Education':{'College':'CEOET','Branch':'EXTC'},\n",
    "        'City':'Yavatmal',\n",
    "        'Age':21\n",
    "    },\n",
    "    {\n",
    "        'Name':'Shubhas',\n",
    "        'Education':{'College':'GHRCOEN','Branch':'EEE'},\n",
    "        'City':'Nagpur',\n",
    "        'Age':23\n",
    "    },\n",
    "    {\n",
    "        'Name':'Shivam',\n",
    "        'Education':{'College':'IITB','Branch':'IT'},\n",
    "        'City':'Banglore',\n",
    "        'Age':22\n",
    "    },\n",
    "    \n",
    "]"
   ]
  },
  {
   "cell_type": "code",
   "execution_count": 107,
   "id": "48188349",
   "metadata": {},
   "outputs": [
    {
     "data": {
      "text/plain": [
       "<pymongo.results.InsertManyResult at 0x1990bd2f1c0>"
      ]
     },
     "execution_count": 107,
     "metadata": {},
     "output_type": "execute_result"
    }
   ],
   "source": [
    "#insert multiple record in collection\n",
    "collection.insert_many(list_records)"
   ]
  },
  {
   "cell_type": "markdown",
   "id": "5b54c950",
   "metadata": {},
   "source": [
    "- <h3 style='color:#33DD33'> Working on Query"
   ]
  },
  {
   "cell_type": "markdown",
   "id": "afc51126",
   "metadata": {},
   "source": [
    "- <h5 style='color:#33AA33'> Find single record"
   ]
  },
  {
   "cell_type": "code",
   "execution_count": 108,
   "id": "5619e779",
   "metadata": {},
   "outputs": [
    {
     "data": {
      "text/plain": [
       "{'_id': ObjectId('60b08e255c8cb2e89ed95b35'),\n",
       " 'Name': 'Rushikesh',\n",
       " 'Education': 'BE',\n",
       " 'Branch': 'CSE',\n",
       " 'Phone No': 9090909090}"
      ]
     },
     "execution_count": 108,
     "metadata": {},
     "output_type": "execute_result"
    }
   ],
   "source": [
    "collection.find_one()"
   ]
  },
  {
   "cell_type": "markdown",
   "id": "4a5ad57a",
   "metadata": {},
   "source": [
    "- <h5 style='color:#33AA33'> Find all records"
   ]
  },
  {
   "cell_type": "code",
   "execution_count": 109,
   "id": "31860d77",
   "metadata": {},
   "outputs": [
    {
     "name": "stdout",
     "output_type": "stream",
     "text": [
      "{'_id': ObjectId('60b08e255c8cb2e89ed95b35'), 'Name': 'Rushikesh', 'Education': 'BE', 'Branch': 'CSE', 'Phone No': 9090909090}\n",
      "\n",
      "{'_id': ObjectId('60b08e2e5c8cb2e89ed95b36'), 'Name': 'Robert', 'Education': ['Bsc', 'Msc', 'PhD'], 'College': 'Howard University', 'Age': 28, 'Email': 'robert@haward.com'}\n",
      "\n",
      "{'_id': ObjectId('60b08e2e5c8cb2e89ed95b37'), 'Name': 'Subadh', 'Education': ['BE', 'M.Tech'], 'City': ['Mumbai', 'Dadar'], 'Age': 31, 'Email': 'subadhab@bhai.jao', 'Hobby': 'cricket'}\n",
      "\n",
      "{'_id': ObjectId('60b08e2e5c8cb2e89ed95b38'), 'Name': 'Rushikesh', 'Education': {'College': 'PRMCEAM', 'Branch': 'CSE'}, 'City': 'Amravati', 'Age': 22}\n",
      "\n",
      "{'_id': ObjectId('60b08e2e5c8cb2e89ed95b39'), 'Name': 'Prajwal', 'Education': {'College': 'GCOEA', 'Branch': 'CS'}, 'City': 'Pune', 'Age': 21}\n",
      "\n",
      "{'_id': ObjectId('60b08e2e5c8cb2e89ed95b3a'), 'Name': 'Tushar', 'Education': {'College': 'CEOET', 'Branch': 'EXTC'}, 'City': 'Yavatmal', 'Age': 21}\n",
      "\n",
      "{'_id': ObjectId('60b08e2e5c8cb2e89ed95b3b'), 'Name': 'Shubhas', 'Education': {'College': 'GHRCOEN', 'Branch': 'EEE'}, 'City': 'Nagpur', 'Age': 23}\n",
      "\n",
      "{'_id': ObjectId('60b08e2e5c8cb2e89ed95b3c'), 'Name': 'Shivam', 'Education': {'College': 'IITB', 'Branch': 'IT'}, 'City': 'Banglore', 'Age': 22}\n",
      "\n"
     ]
    }
   ],
   "source": [
    "for i in collection.find():\n",
    "    print(i,end='\\n\\n')"
   ]
  },
  {
   "cell_type": "markdown",
   "id": "3d23dc66",
   "metadata": {},
   "source": [
    "- <h5 style='color:#33AA33'> Find top 4 record"
   ]
  },
  {
   "cell_type": "code",
   "execution_count": 122,
   "id": "824e75a5",
   "metadata": {
    "scrolled": true
   },
   "outputs": [
    {
     "name": "stdout",
     "output_type": "stream",
     "text": [
      "{'_id': ObjectId('60b08e255c8cb2e89ed95b35'), 'Name': 'Rushikesh', 'Education': 'BE', 'Branch': 'CSE', 'Phone No': 9090909090, 'Graduation': 'Under Grad'}\n",
      "{'_id': ObjectId('60b08e2e5c8cb2e89ed95b36'), 'Name': 'Robert', 'Education': ['Bsc', 'Msc', 'PhD'], 'College': 'Howard University', 'Age': 25, 'Email': 'robert@haward.com'}\n",
      "{'_id': ObjectId('60b08e2e5c8cb2e89ed95b37'), 'Name': 'Subadh', 'Education': ['BE', 'M.Tech'], 'City': ['Mumbai', 'Dadar'], 'Age': 25, 'Email': 'subadhab@bhai.jao', 'Hobby': 'cricket', 'Graduation': 'Under Grad'}\n",
      "{'_id': ObjectId('60b08e2e5c8cb2e89ed95b38'), 'Name': 'Rushikesh', 'Education': {'College': 'PRMCEAM', 'Branch': 'CSE'}, 'City': 'Amravati', 'Age': 22}\n"
     ]
    }
   ],
   "source": [
    "for i in collection.find().limit(4):\n",
    "    print(i)"
   ]
  },
  {
   "cell_type": "markdown",
   "id": "a18bbb58",
   "metadata": {},
   "source": [
    "- <h5 style='color:#33AA33'> Skip first 4 record and return reemaining"
   ]
  },
  {
   "cell_type": "code",
   "execution_count": 135,
   "id": "49183db0",
   "metadata": {
    "scrolled": true
   },
   "outputs": [
    {
     "name": "stdout",
     "output_type": "stream",
     "text": [
      "{'_id': ObjectId('60b08e2e5c8cb2e89ed95b39'), 'Name': 'Prajwal', 'Education': {'College': 'GCOEA', 'Branch': 'CS'}, 'City': 'Pune', 'Age': 21}\n",
      "{'_id': ObjectId('60b08e2e5c8cb2e89ed95b3a'), 'Name': 'Tushar', 'Education': {'College': 'CEOET', 'Branch': 'EXTC'}, 'City': 'Yavatmal', 'Age': 21}\n",
      "{'_id': ObjectId('60b08e2e5c8cb2e89ed95b3b'), 'Name': 'Shubhas', 'Education': {'College': 'GHRCOEN', 'Branch': 'EE'}, 'City': 'Nagpur', 'Age': 23, 'lastModified': datetime.datetime(2021, 5, 28, 6, 32, 41, 236000)}\n",
      "{'_id': ObjectId('60b08e2e5c8cb2e89ed95b3c'), 'Name': 'Shivam', 'Education': {'College': 'IITB', 'Branch': 'IT'}, 'City': 'Banglore', 'Age': 22}\n"
     ]
    }
   ],
   "source": [
    "for i in collection.find().skip(4):\n",
    "    print(i)"
   ]
  },
  {
   "cell_type": "markdown",
   "id": "2c91ac38",
   "metadata": {},
   "source": [
    "- <h5 style='color:#33AA33'> Find record with name 'Rushikesh'"
   ]
  },
  {
   "cell_type": "code",
   "execution_count": 110,
   "id": "46b55eaf",
   "metadata": {},
   "outputs": [
    {
     "name": "stdout",
     "output_type": "stream",
     "text": [
      "{'_id': ObjectId('60b08e255c8cb2e89ed95b35'), 'Name': 'Rushikesh', 'Education': 'BE', 'Branch': 'CSE', 'Phone No': 9090909090}\n",
      "\n",
      "{'_id': ObjectId('60b08e2e5c8cb2e89ed95b38'), 'Name': 'Rushikesh', 'Education': {'College': 'PRMCEAM', 'Branch': 'CSE'}, 'City': 'Amravati', 'Age': 22}\n",
      "\n"
     ]
    }
   ],
   "source": [
    "for i in collection.find({'Name':'Rushikesh'}):\n",
    "    print(i,end='\\n\\n')"
   ]
  },
  {
   "cell_type": "markdown",
   "id": "ec3e1767",
   "metadata": {},
   "source": [
    "- <h3 style='color:#33DDDD'> Query operator:\n",
    "\n",
    "        - $in => In\n",
    "\n",
    "        - $lt => less than\n",
    "\n",
    "        - $gt => greater than\n",
    "\n",
    "        - $nlt => not less than\n",
    "\n",
    "        - $ngt => not greater than\n",
    "\n",
    "        - $ne => No equal to\n",
    "\n",
    "        - $nin => not in\n",
    "\n",
    "        - $and => Binary and \n",
    "\n",
    "        - $or => Binbary or\n",
    "\n",
    "        - $set => use for updating\n",
    "\n",
    "        - $unset => use to deleting\n"
   ]
  },
  {
   "cell_type": "markdown",
   "id": "f0cde31d",
   "metadata": {},
   "source": [
    "- <h5 style='color:#33AA33'> Find record whose education in [ BE , Bsc ]"
   ]
  },
  {
   "cell_type": "code",
   "execution_count": 111,
   "id": "63b71a97",
   "metadata": {
    "scrolled": true
   },
   "outputs": [
    {
     "name": "stdout",
     "output_type": "stream",
     "text": [
      "{'_id': ObjectId('60b08e255c8cb2e89ed95b35'), 'Name': 'Rushikesh', 'Education': 'BE', 'Branch': 'CSE', 'Phone No': 9090909090}\n",
      "\n",
      "{'_id': ObjectId('60b08e2e5c8cb2e89ed95b36'), 'Name': 'Robert', 'Education': ['Bsc', 'Msc', 'PhD'], 'College': 'Howard University', 'Age': 28, 'Email': 'robert@haward.com'}\n",
      "\n",
      "{'_id': ObjectId('60b08e2e5c8cb2e89ed95b37'), 'Name': 'Subadh', 'Education': ['BE', 'M.Tech'], 'City': ['Mumbai', 'Dadar'], 'Age': 31, 'Email': 'subadhab@bhai.jao', 'Hobby': 'cricket'}\n",
      "\n"
     ]
    }
   ],
   "source": [
    "for i in collection.find({'Education':{'$in':['BE','Bsc']}}):\n",
    "    print(i,end='\\n\\n')"
   ]
  },
  {
   "cell_type": "markdown",
   "id": "2a01d202",
   "metadata": {},
   "source": [
    "- <h5 style='color:#33AA33'> find record whose age is less than 35 and education is BE"
   ]
  },
  {
   "cell_type": "code",
   "execution_count": 112,
   "id": "44981f36",
   "metadata": {
    "scrolled": true
   },
   "outputs": [
    {
     "name": "stdout",
     "output_type": "stream",
     "text": [
      "{'_id': ObjectId('60b08e2e5c8cb2e89ed95b37'), 'Name': 'Subadh', 'Education': ['BE', 'M.Tech'], 'City': ['Mumbai', 'Dadar'], 'Age': 31, 'Email': 'subadhab@bhai.jao', 'Hobby': 'cricket'}\n"
     ]
    }
   ],
   "source": [
    "for i in collection.find({'Education':'BE','Age':{'$lt':35}}):\n",
    "    print(i)"
   ]
  },
  {
   "cell_type": "code",
   "execution_count": 113,
   "id": "fcd7ae4c",
   "metadata": {},
   "outputs": [
    {
     "name": "stdout",
     "output_type": "stream",
     "text": [
      "{'_id': ObjectId('60b08e2e5c8cb2e89ed95b37'), 'Name': 'Subadh', 'Education': ['BE', 'M.Tech'], 'City': ['Mumbai', 'Dadar'], 'Age': 31, 'Email': 'subadhab@bhai.jao', 'Hobby': 'cricket'}\n"
     ]
    }
   ],
   "source": [
    "for i in collection.find({'$and':[{'Education':'BE'},{'Age':{'$lt':35}}]}):\n",
    "    print(i)"
   ]
  },
  {
   "cell_type": "markdown",
   "id": "86e36af5",
   "metadata": {},
   "source": [
    "- <h5 style='color:#33AA33'> Find record whose age is greater than equal to 23 and education is M.Tech"
   ]
  },
  {
   "cell_type": "code",
   "execution_count": 114,
   "id": "53f6b51c",
   "metadata": {},
   "outputs": [
    {
     "name": "stdout",
     "output_type": "stream",
     "text": [
      "{'_id': ObjectId('60b08e2e5c8cb2e89ed95b36'), 'Name': 'Robert', 'Education': ['Bsc', 'Msc', 'PhD'], 'College': 'Howard University', 'Age': 28, 'Email': 'robert@haward.com'}\n",
      "{'_id': ObjectId('60b08e2e5c8cb2e89ed95b37'), 'Name': 'Subadh', 'Education': ['BE', 'M.Tech'], 'City': ['Mumbai', 'Dadar'], 'Age': 31, 'Email': 'subadhab@bhai.jao', 'Hobby': 'cricket'}\n",
      "{'_id': ObjectId('60b08e2e5c8cb2e89ed95b3b'), 'Name': 'Shubhas', 'Education': {'College': 'GHRCOEN', 'Branch': 'EEE'}, 'City': 'Nagpur', 'Age': 23}\n"
     ]
    }
   ],
   "source": [
    "for i in collection.find({'$or':[{'Education':'M.Tech'},{'Age':{'$gte':23}}]}):\n",
    "    print(i)"
   ]
  },
  {
   "cell_type": "markdown",
   "id": "a8002699",
   "metadata": {},
   "source": [
    "- <h5 style='color:#33AA33'> find record whose Branch is [CS,IT] and age is greater than 20 "
   ]
  },
  {
   "cell_type": "code",
   "execution_count": 99,
   "id": "df6bcf28",
   "metadata": {},
   "outputs": [
    {
     "name": "stdout",
     "output_type": "stream",
     "text": [
      "{'_id': ObjectId('60b07ece5c8cb2e89ed95b2a'), 'Name': 'Prajwal', 'Education': {'College': 'GCOEA', 'Branch': 'CS'}, 'City': 'Pune'}\n",
      "{'_id': ObjectId('60b07ece5c8cb2e89ed95b2d'), 'Name': 'Shivam', 'Education': {'College': 'IITB', 'Branch': 'IT'}, 'City': 'Banglore'}\n",
      "{'_id': ObjectId('60b0865e5c8cb2e89ed95b31'), 'Name': 'Prajwal', 'Education': {'College': 'GCOEA', 'Branch': 'CS'}, 'City': 'Pune', 'Age': 21}\n",
      "{'_id': ObjectId('60b0865e5c8cb2e89ed95b34'), 'Name': 'Shivam', 'Education': {'College': 'IITB', 'Branch': 'IT'}, 'City': 'Banglore', 'Age': 22}\n"
     ]
    }
   ],
   "source": [
    "for i in collection.find({'Education.Branch':{'$in':['CS','IT']}}):\n",
    "    print(i)"
   ]
  },
  {
   "cell_type": "markdown",
   "id": "698c509b",
   "metadata": {},
   "source": [
    "- <h5 style='color:#33AA33'> Update Branch of 'Shubhas' to EE"
   ]
  },
  {
   "cell_type": "code",
   "execution_count": 115,
   "id": "6b0e2270",
   "metadata": {},
   "outputs": [
    {
     "data": {
      "text/plain": [
       "<pymongo.results.UpdateResult at 0x1990bd8ca80>"
      ]
     },
     "execution_count": 115,
     "metadata": {},
     "output_type": "execute_result"
    }
   ],
   "source": [
    "collection.update_one(\n",
    "    {'Name':'Shubhas'},\n",
    "    {'$set':{'Education.Branch':'EE'},\n",
    "    '$currentDate':{'lastModified':True}}\n",
    ")"
   ]
  },
  {
   "cell_type": "code",
   "execution_count": 116,
   "id": "34d44fe6",
   "metadata": {},
   "outputs": [
    {
     "name": "stdout",
     "output_type": "stream",
     "text": [
      "{'_id': ObjectId('60b08e2e5c8cb2e89ed95b3b'), 'Name': 'Shubhas', 'Education': {'College': 'GHRCOEN', 'Branch': 'EE'}, 'City': 'Nagpur', 'Age': 23, 'lastModified': datetime.datetime(2021, 5, 28, 6, 32, 41, 236000)}\n"
     ]
    }
   ],
   "source": [
    "for i in collection.find({'Name':'Shubhas'}):\n",
    "    print(i)"
   ]
  },
  {
   "cell_type": "markdown",
   "id": "3cce8650",
   "metadata": {},
   "source": [
    "- <h5 style='color:#33AA33'> Check Age is greater than 25 then set it to 25 "
   ]
  },
  {
   "cell_type": "code",
   "execution_count": 118,
   "id": "ac5ce04c",
   "metadata": {},
   "outputs": [
    {
     "data": {
      "text/plain": [
       "<pymongo.results.UpdateResult at 0x1990bdeba00>"
      ]
     },
     "execution_count": 118,
     "metadata": {},
     "output_type": "execute_result"
    }
   ],
   "source": [
    "collection.update_many(\n",
    "    {'Age':{'$gt':25}},\n",
    "    {'$set':{'Age':25}}\n",
    ")"
   ]
  },
  {
   "cell_type": "code",
   "execution_count": 120,
   "id": "591976b1",
   "metadata": {},
   "outputs": [
    {
     "name": "stdout",
     "output_type": "stream",
     "text": [
      "{'_id': ObjectId('60b08e255c8cb2e89ed95b35'), 'Name': 'Rushikesh', 'Education': 'BE', 'Branch': 'CSE', 'Phone No': 9090909090, 'Graduation': 'Under Grad'}\n",
      "{'_id': ObjectId('60b08e2e5c8cb2e89ed95b36'), 'Name': 'Robert', 'Education': ['Bsc', 'Msc', 'PhD'], 'College': 'Howard University', 'Age': 25, 'Email': 'robert@haward.com'}\n",
      "{'_id': ObjectId('60b08e2e5c8cb2e89ed95b37'), 'Name': 'Subadh', 'Education': ['BE', 'M.Tech'], 'City': ['Mumbai', 'Dadar'], 'Age': 25, 'Email': 'subadhab@bhai.jao', 'Hobby': 'cricket', 'Graduation': 'Under Grad'}\n",
      "{'_id': ObjectId('60b08e2e5c8cb2e89ed95b38'), 'Name': 'Rushikesh', 'Education': {'College': 'PRMCEAM', 'Branch': 'CSE'}, 'City': 'Amravati', 'Age': 22}\n",
      "{'_id': ObjectId('60b08e2e5c8cb2e89ed95b39'), 'Name': 'Prajwal', 'Education': {'College': 'GCOEA', 'Branch': 'CS'}, 'City': 'Pune', 'Age': 21}\n",
      "{'_id': ObjectId('60b08e2e5c8cb2e89ed95b3a'), 'Name': 'Tushar', 'Education': {'College': 'CEOET', 'Branch': 'EXTC'}, 'City': 'Yavatmal', 'Age': 21}\n",
      "{'_id': ObjectId('60b08e2e5c8cb2e89ed95b3b'), 'Name': 'Shubhas', 'Education': {'College': 'GHRCOEN', 'Branch': 'EE'}, 'City': 'Nagpur', 'Age': 23, 'lastModified': datetime.datetime(2021, 5, 28, 6, 32, 41, 236000)}\n",
      "{'_id': ObjectId('60b08e2e5c8cb2e89ed95b3c'), 'Name': 'Shivam', 'Education': {'College': 'IITB', 'Branch': 'IT'}, 'City': 'Banglore', 'Age': 22}\n"
     ]
    }
   ],
   "source": [
    "for i in collection.find({}):\n",
    "    print(i)"
   ]
  },
  {
   "cell_type": "markdown",
   "id": "0393f1fb",
   "metadata": {},
   "source": [
    "- <h5 style='color:#33AA33'> If Education is BE then create a Graduation key and set Under Grad as values"
   ]
  },
  {
   "cell_type": "code",
   "execution_count": 119,
   "id": "1f00de1b",
   "metadata": {},
   "outputs": [
    {
     "data": {
      "text/plain": [
       "<pymongo.results.UpdateResult at 0x1990d1c3340>"
      ]
     },
     "execution_count": 119,
     "metadata": {},
     "output_type": "execute_result"
    }
   ],
   "source": [
    "collection.update_many(\n",
    "    {'Education':'BE'},\n",
    "    {'$set':{'Graduation':'Under Grad'}}\n",
    ")"
   ]
  },
  {
   "cell_type": "code",
   "execution_count": 121,
   "id": "fe08771d",
   "metadata": {},
   "outputs": [
    {
     "name": "stdout",
     "output_type": "stream",
     "text": [
      "{'_id': ObjectId('60b08e255c8cb2e89ed95b35'), 'Name': 'Rushikesh', 'Education': 'BE', 'Branch': 'CSE', 'Phone No': 9090909090, 'Graduation': 'Under Grad'}\n",
      "{'_id': ObjectId('60b08e2e5c8cb2e89ed95b37'), 'Name': 'Subadh', 'Education': ['BE', 'M.Tech'], 'City': ['Mumbai', 'Dadar'], 'Age': 25, 'Email': 'subadhab@bhai.jao', 'Hobby': 'cricket', 'Graduation': 'Under Grad'}\n"
     ]
    }
   ],
   "source": [
    "for i in collection.find({'Education':'BE'}):\n",
    "    print(i)"
   ]
  },
  {
   "cell_type": "markdown",
   "id": "7d570cb7",
   "metadata": {},
   "source": [
    "- <h3 style='color:#33DDDD'> Aggregate Operator\n",
    "    \n",
    "        - avg\n",
    "        - count\n",
    "        - sum\n",
    "        - min\n",
    "        - max"
   ]
  },
  {
   "cell_type": "markdown",
   "id": "5074e8ea",
   "metadata": {},
   "source": [
    "- <h5 style='color:#33AA33'> Find all distinct branches in collection documents"
   ]
  },
  {
   "cell_type": "code",
   "execution_count": 131,
   "id": "0baff9d2",
   "metadata": {},
   "outputs": [
    {
     "data": {
      "text/plain": [
       "['CS', 'CSE', 'EE', 'EXTC', 'IT']"
      ]
     },
     "execution_count": 131,
     "metadata": {},
     "output_type": "execute_result"
    }
   ],
   "source": [
    "db.Student.distinct('Education.Branch')"
   ]
  },
  {
   "cell_type": "markdown",
   "id": "a1fafe6c",
   "metadata": {},
   "source": [
    "- <h5 style='color:#33AA33'> Find the count of person whose age is less than 23"
   ]
  },
  {
   "cell_type": "code",
   "execution_count": 128,
   "id": "9c6e7e68",
   "metadata": {},
   "outputs": [
    {
     "name": "stderr",
     "output_type": "stream",
     "text": [
      "<ipython-input-128-2a9aef5f7b61>:1: DeprecationWarning: count is deprecated. Use Collection.count_documents instead.\n",
      "  collection.find({'Age':{'$lt':23}}).count()\n"
     ]
    },
    {
     "data": {
      "text/plain": [
       "4"
      ]
     },
     "execution_count": 128,
     "metadata": {},
     "output_type": "execute_result"
    }
   ],
   "source": [
    "collection.find({'Age':{'$lt':23}}).count()"
   ]
  },
  {
   "cell_type": "markdown",
   "id": "d2bf628f",
   "metadata": {},
   "source": [
    "- <h5 style='color:#33AA33'> Sort Record base on Age"
   ]
  },
  {
   "cell_type": "code",
   "execution_count": 138,
   "id": "0e9f30bc",
   "metadata": {},
   "outputs": [
    {
     "name": "stdout",
     "output_type": "stream",
     "text": [
      "{'_id': ObjectId('60b08e255c8cb2e89ed95b35'), 'Name': 'Rushikesh', 'Education': 'BE', 'Branch': 'CSE', 'Phone No': 9090909090, 'Graduation': 'Under Grad'}\n",
      "\n",
      "{'_id': ObjectId('60b08e2e5c8cb2e89ed95b39'), 'Name': 'Prajwal', 'Education': {'College': 'GCOEA', 'Branch': 'CS'}, 'City': 'Pune', 'Age': 21}\n",
      "\n",
      "{'_id': ObjectId('60b08e2e5c8cb2e89ed95b3a'), 'Name': 'Tushar', 'Education': {'College': 'CEOET', 'Branch': 'EXTC'}, 'City': 'Yavatmal', 'Age': 21}\n",
      "\n",
      "{'_id': ObjectId('60b08e2e5c8cb2e89ed95b38'), 'Name': 'Rushikesh', 'Education': {'College': 'PRMCEAM', 'Branch': 'CSE'}, 'City': 'Amravati', 'Age': 22}\n",
      "\n",
      "{'_id': ObjectId('60b08e2e5c8cb2e89ed95b3c'), 'Name': 'Shivam', 'Education': {'College': 'IITB', 'Branch': 'IT'}, 'City': 'Banglore', 'Age': 22}\n",
      "\n",
      "{'_id': ObjectId('60b08e2e5c8cb2e89ed95b3b'), 'Name': 'Shubhas', 'Education': {'College': 'GHRCOEN', 'Branch': 'EE'}, 'City': 'Nagpur', 'Age': 23, 'lastModified': datetime.datetime(2021, 5, 28, 6, 32, 41, 236000)}\n",
      "\n",
      "{'_id': ObjectId('60b08e2e5c8cb2e89ed95b36'), 'Name': 'Robert', 'Education': ['Bsc', 'Msc', 'PhD'], 'College': 'Howard University', 'Age': 25, 'Email': 'robert@haward.com'}\n",
      "\n",
      "{'_id': ObjectId('60b08e2e5c8cb2e89ed95b37'), 'Name': 'Subadh', 'Education': ['BE', 'M.Tech'], 'City': ['Mumbai', 'Dadar'], 'Age': 25, 'Email': 'subadhab@bhai.jao', 'Hobby': 'cricket', 'Graduation': 'Under Grad'}\n",
      "\n"
     ]
    }
   ],
   "source": [
    "for i in collection.find().sort('Age'):\n",
    "    print(i,end='\\n\\n')"
   ]
  },
  {
   "cell_type": "markdown",
   "id": "9d778052",
   "metadata": {},
   "source": [
    "- <h5 style='color:#33AA33'> Find the record whose age is max"
   ]
  },
  {
   "cell_type": "code",
   "execution_count": 150,
   "id": "b17d889e",
   "metadata": {},
   "outputs": [],
   "source": [
    "for i in collection.find({'_id':'$Name'}):\n",
    "    print(i,end='\\n\\n')"
   ]
  },
  {
   "cell_type": "markdown",
   "id": "e11e1ac2",
   "metadata": {},
   "source": [
    "- <h5 style='color:#33AA33'> Return Name and count of City "
   ]
  },
  {
   "cell_type": "code",
   "execution_count": 169,
   "id": "15462207",
   "metadata": {},
   "outputs": [],
   "source": [
    "a = collection.aggregate(\n",
    "    [{'$group':\n",
    "      {'_id':'$Name',\n",
    "     'Total City':{\"$sum\":1}\n",
    "     }}\n",
    "    ])"
   ]
  },
  {
   "cell_type": "code",
   "execution_count": 170,
   "id": "c5e60f1c",
   "metadata": {},
   "outputs": [
    {
     "name": "stdout",
     "output_type": "stream",
     "text": [
      "{'_id': 'Shivam', 'Total City': 1}\n",
      "{'_id': 'Robert', 'Total City': 1}\n",
      "{'_id': 'Tushar', 'Total City': 1}\n",
      "{'_id': 'Rushikesh', 'Total City': 2}\n",
      "{'_id': 'Subadh', 'Total City': 1}\n",
      "{'_id': 'Prajwal', 'Total City': 1}\n"
     ]
    }
   ],
   "source": [
    "for i in a:\n",
    "    print(i)"
   ]
  },
  {
   "cell_type": "markdown",
   "id": "a7ec8c62",
   "metadata": {},
   "source": [
    "- <h5 style='color:#33AA33'> Find Average of Age "
   ]
  },
  {
   "cell_type": "code",
   "execution_count": 188,
   "id": "e8f0ca44",
   "metadata": {},
   "outputs": [
    {
     "name": "stdout",
     "output_type": "stream",
     "text": [
      "{'_id': 'Shivam', 'Age is': 22.0}\n",
      "{'_id': 'Robert', 'Age is': 25.0}\n",
      "{'_id': 'Tushar', 'Age is': 21.0}\n",
      "{'_id': 'Rushikesh', 'Age is': 22.0}\n",
      "{'_id': 'Subadh', 'Age is': 25.0}\n",
      "{'_id': 'Prajwal', 'Age is': 21.0}\n"
     ]
    }
   ],
   "source": [
    "age_sum = collection.aggregate([\n",
    "    {\n",
    "        '$group':\n",
    "            {'_id':'$Name',\n",
    "            \"Age is\":{'$avg':'$Age'}\n",
    "    }}\n",
    "])\n",
    "for i in age_sum:\n",
    "    print(i)"
   ]
  },
  {
   "cell_type": "markdown",
   "id": "31344e1a",
   "metadata": {},
   "source": [
    "- <h5 style='color:#33AA33'> Delete Record whose Age is 23"
   ]
  },
  {
   "cell_type": "code",
   "execution_count": 189,
   "id": "46aeec6a",
   "metadata": {},
   "outputs": [
    {
     "name": "stdout",
     "output_type": "stream",
     "text": [
      "Before : \n",
      "After : \n"
     ]
    }
   ],
   "source": [
    "print('Before : ')\n",
    "for i in collection.find({'Age':23}):\n",
    "    print(i)\n",
    "collection.delete_many({'Age':23})\n",
    "print(\"After : \")\n",
    "for i in collection.find({'Age':23}):\n",
    "    print(i)"
   ]
  },
  {
   "cell_type": "markdown",
   "id": "9b9eb74e",
   "metadata": {},
   "source": [
    "- <h5 style='color:#33AA33'> Drop collection name as Student"
   ]
  },
  {
   "cell_type": "code",
   "execution_count": 190,
   "id": "1cfc91e9",
   "metadata": {},
   "outputs": [],
   "source": [
    "collection.drop()"
   ]
  },
  {
   "cell_type": "markdown",
   "id": "6d095cb4",
   "metadata": {},
   "source": [
    "- <h5 style='color:#33AA33'> Check Collection in Record Database"
   ]
  },
  {
   "cell_type": "code",
   "execution_count": 191,
   "id": "4bda57cb",
   "metadata": {},
   "outputs": [
    {
     "name": "stderr",
     "output_type": "stream",
     "text": [
      "<ipython-input-191-128f7006629a>:1: DeprecationWarning: collection_names is deprecated. Use list_collection_names instead.\n",
      "  db.collection_names(0)\n"
     ]
    },
    {
     "data": {
      "text/plain": [
       "[]"
      ]
     },
     "execution_count": 191,
     "metadata": {},
     "output_type": "execute_result"
    }
   ],
   "source": [
    "db.collection_names(0)"
   ]
  },
  {
   "cell_type": "markdown",
   "id": "c43875af",
   "metadata": {},
   "source": [
    "- <h5 style='color:#33AA33'> Drop Database 'Record'</h5>\n",
    "     \n",
    "     - No need o drop Datbase if there is no Collection in databse then it drop automatically"
   ]
  },
  {
   "cell_type": "markdown",
   "id": "df20f57e",
   "metadata": {},
   "source": [
    "- <h5 style='color:#33AA33'> Check database"
   ]
  },
  {
   "cell_type": "code",
   "execution_count": 192,
   "id": "cd86c93d",
   "metadata": {},
   "outputs": [
    {
     "data": {
      "text/plain": [
       "['admin', 'config', 'demo', 'local', 'rus_first_mongo']"
      ]
     },
     "execution_count": 192,
     "metadata": {},
     "output_type": "execute_result"
    }
   ],
   "source": [
    "client.list_database_names()"
   ]
  },
  {
   "cell_type": "markdown",
   "id": "8929462c",
   "metadata": {},
   "source": [
    "<h2 style='color:#DD6633' align='right'> Thank You !</h2>\n",
    "<h5 style='color:#DD6611' align='right'> - Rushikesh "
   ]
  }
 ],
 "metadata": {
  "kernelspec": {
   "display_name": "Python 3",
   "language": "python",
   "name": "python3"
  },
  "language_info": {
   "codemirror_mode": {
    "name": "ipython",
    "version": 3
   },
   "file_extension": ".py",
   "mimetype": "text/x-python",
   "name": "python",
   "nbconvert_exporter": "python",
   "pygments_lexer": "ipython3",
   "version": "3.8.0"
  }
 },
 "nbformat": 4,
 "nbformat_minor": 5
}
